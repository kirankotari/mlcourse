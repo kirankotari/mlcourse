{
 "cells": [
  {
   "cell_type": "code",
   "execution_count": 245,
   "metadata": {},
   "outputs": [],
   "source": [
    "import numpy as np\n",
    "import pandas as pd\n",
    "import re\n",
    "import math\n",
    "%matplotlib inline\n",
    "from scipy import spatial"
   ]
  },
  {
   "cell_type": "code",
   "execution_count": 253,
   "metadata": {
    "scrolled": true
   },
   "outputs": [],
   "source": [
    "with open('sentences.txt') as f:\n",
    "    text = f.readlines()\n",
    "    lines = len(list(text))\n",
    "    f.seek(0)\n",
    "    import re\n",
    "    index_line, index_unique_word = 0, 0\n",
    "    words = {}\n",
    "    for sentence in text:\n",
    "        p = re.compile(r\"[^a-z]+\")\n",
    "        tokens = p.split(sentence.lower())\n",
    "        tokens.remove('')\n",
    "        for token in tokens:\n",
    "            if token not in words:\n",
    "                words[token] = {\n",
    "                    \"index\": index_unique_word,\n",
    "                    \"occurrences\": [0] * lines\n",
    "                }\n",
    "                index_unique_word += 1\n",
    "            elif words[token]['occurrences'][index_line] != 0:\n",
    "                continue\n",
    "                \n",
    "            words[token]['occurrences'][index_line] = tokens.count(token)\n",
    "        index_line += 1\n",
    "        \n",
    "    matrix = np.zeros((lines,len(words)))\n",
    "    u = matrix[0]\n",
    "    \n",
    "    for word in words:\n",
    "        i,j=0,words[word]['index']\n",
    "        for occ in words[word]['occurrences']:\n",
    "            matrix[i,j] = occ\n",
    "            i += 1\n",
    "            \n",
    "    distances = {}\n",
    "    \n",
    "    first_sentence_metric = matrix[0,:]\n",
    "    for i in range(lines):\n",
    "        sentence_metric = matrix[i,:]\n",
    "        distances[i] = spatial.distance.cosine(first_sentence_metric, sentence_metric)\n",
    "        a =sentence\n",
    "    len(a)\n",
    "distances_df = pd.DataFrame.from_dict(distances, orient='index')   \n",
    "distances_df.columns = ['distance']\n",
    "distances_df['sentence'] = list(map(lambda x: text[x], distances_df.index.values))\n",
    "#distances_df.head(100)"
   ]
  },
  {
   "cell_type": "code",
   "execution_count": 257,
   "metadata": {},
   "outputs": [
    {
     "name": "stdout",
     "output_type": "stream",
     "text": [
      "3.252216865271419 1.7468459495903677 2.5054164070002463 0.6352214195786656\n"
     ]
    }
   ],
   "source": [
    "def f(x):\n",
    "    return math.sin(x/5.)*math.exp(x/10.) + 5*math.exp(-x/2.)\n",
    "a0 = f(1)\n",
    "a1 = f(4)\n",
    "a2 = f(10)\n",
    "a3 = f(15)\n",
    "print(a0,a1,a2,a3)"
   ]
  },
  {
   "cell_type": "code",
   "execution_count": 275,
   "metadata": {},
   "outputs": [],
   "source": [
    "def get_matrix(x_points):\n",
    "    n = len(x_points)\n",
    "    matrix = []\n",
    "    for x in x_points:\n",
    "        row = []\n",
    "        for i in range(n):\n",
    "            row.append(x**i)\n",
    "        matrix.append(row)\n",
    "    return np.array(matrix)\n",
    "\n",
    "def get_approximate_values(w, x_points):\n",
    "    y = []\n",
    "    for x in x_points:\n",
    "        y_curr = 0\n",
    "        for i in range(len(w)):\n",
    "            y_curr += w[i]*(x**i)\n",
    "        y.append(y_curr)\n",
    "    return y"
   ]
  },
  {
   "cell_type": "code",
   "execution_count": 301,
   "metadata": {},
   "outputs": [
    {
     "name": "stdout",
     "output_type": "stream",
     "text": [
      "[ 3.75400717 -0.50179031]\n"
     ]
    }
   ],
   "source": [
    "x = np.arange(1,16,0.1)\n",
    "x_2 = [1,4,10,15]\n",
    "A_2 = get_matrix(x_2)\n",
    "y_2 = np.array(list(map(f, x_2)))\n",
    "w_3 = scipy.linalg.solve(A_2,y_2)\n",
    "y_approx_2 = get_approximate_values(w_3,x)\n",
    "\n",
    "print(w_3)"
   ]
  },
  {
   "cell_type": "code",
   "execution_count": 303,
   "metadata": {},
   "outputs": [
    {
     "data": {
      "text/plain": [
       "[3.252216865271419, -3.7728474079068217]"
      ]
     },
     "execution_count": 303,
     "metadata": {},
     "output_type": "execute_result"
    }
   ],
   "source": [
    "y_approx_2)"
   ]
  },
  {
   "cell_type": "code",
   "execution_count": null,
   "metadata": {},
   "outputs": [],
   "source": []
  },
  {
   "cell_type": "code",
   "execution_count": null,
   "metadata": {},
   "outputs": [],
   "source": []
  }
 ],
 "metadata": {
  "kernelspec": {
   "display_name": "Python 3",
   "language": "python",
   "name": "python3"
  },
  "language_info": {
   "codemirror_mode": {
    "name": "ipython",
    "version": 3
   },
   "file_extension": ".py",
   "mimetype": "text/x-python",
   "name": "python",
   "nbconvert_exporter": "python",
   "pygments_lexer": "ipython3",
   "version": "3.7.1"
  }
 },
 "nbformat": 4,
 "nbformat_minor": 2
}
