{
 "cells": [
  {
   "cell_type": "code",
   "execution_count": 3,
   "metadata": {},
   "outputs": [],
   "source": [
    "import numpy as np\n",
    "import re"
   ]
  },
  {
   "cell_type": "code",
   "execution_count": 57,
   "metadata": {},
   "outputs": [
    {
     "data": {
      "text/plain": [
       "254"
      ]
     },
     "execution_count": 57,
     "metadata": {},
     "output_type": "execute_result"
    }
   ],
   "source": [
    "with open('sentences.txt') as f:\n",
    "    lines = sum(1 for line in f)\n",
    "    f.seek(0)\n",
    "    \n",
    "    import re\n",
    "    index_line, index_unique_word = 0, 0\n",
    "    words = {}\n",
    "    for sentence in f:\n",
    "        p = re.compile(r\"[^a-z]+\")\n",
    "        tokens = p.split(sentence.lower())\n",
    "        tokens.remove('')\n",
    "        for token in tokens:\n",
    "            if token not in words:\n",
    "                words[token] = {\n",
    "                    \"index\": index_unique_word,\n",
    "                    \"occurrences\": [0] * lines\n",
    "                }\n",
    "                index_unique_word += 1\n",
    "            elif words[token]['occurrences'][index_line] != 0:\n",
    "                continue\n",
    "                \n",
    "            words[token]['occurrences'][index_line] = tokens.count(token)\n",
    "        index_line += 1\n",
    "        \n",
    "    matrix = np.zeros((lines,len(words)))\n",
    "    \n",
    "    for word in words:\n",
    "        i,j=0, words[word]['index']\n",
    "        for occ in words[word]['occurrences']:\n",
    "            matrix[i,j] = occ\n",
    "            i += 1\n",
    "            \n",
    "len(words)\n"
   ]
  },
  {
   "cell_type": "code",
   "execution_count": 40,
   "metadata": {},
   "outputs": [
    {
     "data": {
      "text/plain": [
       "(22,)"
      ]
     },
     "execution_count": 40,
     "metadata": {},
     "output_type": "execute_result"
    }
   ],
   "source": [
    "matrix.shape"
   ]
  },
  {
   "cell_type": "code",
   "execution_count": null,
   "metadata": {},
   "outputs": [],
   "source": []
  },
  {
   "cell_type": "code",
   "execution_count": null,
   "metadata": {},
   "outputs": [],
   "source": []
  }
 ],
 "metadata": {
  "kernelspec": {
   "display_name": "Python 3",
   "language": "python",
   "name": "python3"
  },
  "language_info": {
   "codemirror_mode": {
    "name": "ipython",
    "version": 3
   },
   "file_extension": ".py",
   "mimetype": "text/x-python",
   "name": "python",
   "nbconvert_exporter": "python",
   "pygments_lexer": "ipython3",
   "version": "3.7.2"
  }
 },
 "nbformat": 4,
 "nbformat_minor": 2
}
